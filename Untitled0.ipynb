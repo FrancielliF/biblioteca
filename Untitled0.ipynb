{
  "nbformat": 4,
  "nbformat_minor": 0,
  "metadata": {
    "colab": {
      "provenance": [],
      "authorship_tag": "ABX9TyOC/ImyzzYRERI5n24NRSpm",
      "include_colab_link": true
    },
    "kernelspec": {
      "name": "python3",
      "display_name": "Python 3"
    },
    "language_info": {
      "name": "python"
    }
  },
  "cells": [
    {
      "cell_type": "markdown",
      "metadata": {
        "id": "view-in-github",
        "colab_type": "text"
      },
      "source": [
        "<a href=\"https://colab.research.google.com/github/FrancielliF/biblioteca/blob/main/Untitled0.ipynb\" target=\"_parent\"><img src=\"https://colab.research.google.com/assets/colab-badge.svg\" alt=\"Open In Colab\"/></a>"
      ]
    },
    {
      "cell_type": "code",
      "execution_count": 42,
      "metadata": {
        "id": "RvnWdAp_Z6XU",
        "colab": {
          "base_uri": "https://localhost:8080/"
        },
        "outputId": "6cdf68ce-685b-4509-be52-84011c41bf16"
      },
      "outputs": [
        {
          "output_type": "stream",
          "name": "stdout",
          "text": [
            "Titulo: raposinha\n",
            "Autor:fran\n",
            "Genero:fantasia\n",
            "Quantidade disponivel:55\n",
            "O livro raposinha foi adicionado a biblioteca!\n",
            "Titulo: o fim\n",
            "Autor:fran\n",
            "Genero:terror\n",
            "Quantidade disponivel:70\n",
            "O livro o fim foi adicionado a biblioteca!\n",
            "Titulo: paixoes\n",
            "Autor:fran\n",
            "Genero:romance\n",
            "Quantidade disponivel:121\n",
            "O livro paixoes foi adicionado a biblioteca!\n",
            "\n",
            " Livros na biblioteca: \n",
            "\n",
            "raposinha por fran, do genero fantasia possui 55 livros disponiveis!\n",
            "o fim por fran, do genero terror possui 70 livros disponiveis!\n",
            "paixoes por fran, do genero romance possui 121 livros disponiveis!\n",
            "None\n",
            "\n",
            "\n",
            "Digite o titulo do livro que deseja buscar: \n",
            "raposinha\n",
            "raposinha por fran, do genero fantasia possui 55 livros disponiveis!\n"
          ]
        }
      ],
      "source": [
        "import matplotlib.pyplot as plt\n",
        "\n",
        "class Livro:\n",
        "  def __init__(self, titulo, autor, genero, qnt_disp):\n",
        "    self.titulo = titulo\n",
        "    self.autor = autor\n",
        "    self.genero = genero\n",
        "    self.qnt_disp = qnt_disp\n",
        "\n",
        "  def __str__(self):\n",
        "    return f\"{self.titulo} por {self.autor}, do genero {self.genero} possui {self.qnt_disp} livros disponiveis!\"\n",
        "\n",
        "biblioteca = []\n",
        "generos = []\n",
        "qnt_disp_list = []\n",
        "titulo = []\n",
        "autor = []\n",
        "\n",
        "def cadastrar_livro(titulo, autor, genero, qnt_disp):\n",
        "  novo_livro = Livro(input(\"Titulo: \"), input(\"Autor:\"), input(\"Genero:\"), int(input(\"Quantidade disponivel:\")))\n",
        "  biblioteca.append(novo_livro)\n",
        "  generos.append(novo_livro.genero)\n",
        "  qnt_disp_list.append(novo_livro.qnt_disp)\n",
        "  print(f\"O livro {novo_livro.titulo} foi adicionado a biblioteca!\")\n",
        "\n",
        "def listar_livros():\n",
        "  print(\"\\n Livros na biblioteca: \\n\")\n",
        "  for livro in biblioteca:\n",
        "    print(livro)\n",
        "\n",
        "def buscar_livro(titulo):\n",
        "  for livro in biblioteca:\n",
        "    if livro.titulo == titulo:\n",
        "      print(livro)\n",
        "      return\n",
        "  print(\"Livro nao encontrado! \\n\")\n",
        "\n",
        "for x in range(3):\n",
        "  cadastrar_livro(titulo, autor, genero, qnt_disp)\n",
        "\n",
        "print(listar_livros())\n",
        "print(\"\\n\")\n",
        "\n",
        "\n",
        "buscar_livro(input(\"Digite o titulo do livro que deseja buscar: \\n\"))\n"
      ]
    }
  ]
}